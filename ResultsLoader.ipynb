{
 "cells": [
  {
   "cell_type": "code",
   "execution_count": 1,
   "metadata": {},
   "outputs": [],
   "source": [
    "import numpy as np"
   ]
  },
  {
   "cell_type": "code",
   "execution_count": 4,
   "metadata": {},
   "outputs": [],
   "source": [
    "split = 'val'\n",
    "\n",
    "overall_cosine_similarities = []\n",
    "overall_accuracies = []\n",
    "overall_ious = []\n",
    "\n",
    "for epoch in range(60):\n",
    "    cosine_similarities = np.loadtxt(f'results/visual_marker/fine_tuning/RN50_fine_tuned_{epoch}_epochs/YOLOv5/{split}/cosine_similarities.csv', delimiter=',')\n",
    "    accuracies = np.loadtxt(f'results/visual_marker/fine_tuning/RN50_fine_tuned_{epoch}_epochs/YOLOv5/{split}/accuracies.csv', delimiter=',')[1]\n",
    "    ious = np.loadtxt(f'results/visual_marker/fine_tuning/RN50_fine_tuned_{epoch}_epochs/YOLOv5/{split}/ious.csv', delimiter=',')\n",
    "\n",
    "    overall_cosine_similarities.append(np.nanmean(cosine_similarities))\n",
    "    overall_accuracies.append([accuracies[0], accuracies[1], accuracies[2]])\n",
    "    overall_ious.append(np.nanmean(ious))\n",
    "\n",
    "overall_cosine_similarities = np.array(overall_cosine_similarities)\n",
    "overall_accuracies = np.array(overall_accuracies)\n",
    "overall_ious = np.array(overall_ious)"
   ]
  },
  {
   "cell_type": "code",
   "execution_count": 5,
   "metadata": {},
   "outputs": [
    {
     "name": "stdout",
     "output_type": "stream",
     "text": [
      "Max cosine similarity: 0.869889621559633 at epoch: [14]\n",
      "Max mAP@30: 0.5926605504587156 at epoch: [14]\n",
      "Max mAP@50: 0.5293577981651376 at epoch: [14]\n",
      "Max mAP@70: 0.48256880733944957 at epoch: [14]\n",
      "Max IoU: 0.5167484043242939 at epoch: [14]\n"
     ]
    }
   ],
   "source": [
    "x_cos_sim_max = [np.argmax(overall_cosine_similarities)]\n",
    "y_cos_sim_max = overall_cosine_similarities.max()\n",
    "\n",
    "x_map30_max = [np.argmax(overall_accuracies[:, 0])]\n",
    "y_map30_max = overall_accuracies[:, 0].max()\n",
    "\n",
    "x_map50_max = [np.argmax(overall_accuracies[:, 1])]\n",
    "y_map50_max = overall_accuracies[:, 1].max()\n",
    "\n",
    "x_map70_max = [np.argmax(overall_accuracies[:, 2])]\n",
    "y_map70_max = overall_accuracies[:, 2].max()\n",
    "\n",
    "x_iou_max = [np.argmax(overall_ious)]\n",
    "y_iou_max = overall_ious.max()\n",
    "\n",
    "print(f'Max cosine similarity: {y_cos_sim_max} at epoch: {x_cos_sim_max}')\n",
    "print(f'Max mAP@30: {y_map30_max} at epoch: {x_map30_max}')\n",
    "print(f'Max mAP@50: {y_map50_max} at epoch: {x_map50_max}')\n",
    "print(f'Max mAP@70: {y_map70_max} at epoch: {x_map70_max}')\n",
    "print(f'Max IoU: {y_iou_max} at epoch: {x_iou_max}')"
   ]
  },
  {
   "cell_type": "code",
   "execution_count": null,
   "metadata": {},
   "outputs": [],
   "source": [
    "%matplotlib inline\n",
    "\n",
    "import matplotlib.pyplot as plt\n",
    "\n",
    "font_title = {'family': 'serif', 'color': 'darkred', 'size': 16}\n",
    "font_axes = {'family': 'serif', 'color': 'black', 'size': 12}\n",
    "\n",
    "fig, ax = plt.subplots()\n",
    "ax.plot(list(range(len(overall_cosine_similarities))), overall_cosine_similarities)\n",
    "ax.set_xlabel('Epoch', fontdict=font_axes)\n",
    "ax.set_ylabel('Average Cosine Similarity', fontdict=font_axes)\n",
    "ax.set_title(f'Cosine Similarity (est.) ({split} set)', fontdict=font_title)\n",
    "ax.grid(linestyle='--')\n",
    "\n",
    "fig, ax = plt.subplots()\n",
    "ax.plot(list(range(len(overall_accuracies[:, 0]))), overall_accuracies[:, 0])\n",
    "ax.set_xlabel('Epoch', fontdict=font_axes)\n",
    "ax.set_ylabel('mAP@30', fontdict=font_axes)\n",
    "ax.set_title(f'mAP@30 (est.) ({split} set)', fontdict=font_title)\n",
    "ax.grid(linestyle='--')\n",
    "\n",
    "\n",
    "fig, ax = plt.subplots()\n",
    "ax.plot(list(range(len(overall_accuracies[:, 1]))), overall_accuracies[:, 1])\n",
    "ax.set_xlabel('Epoch', fontdict=font_axes)\n",
    "ax.set_ylabel('mAP@50', fontdict=font_axes)\n",
    "ax.set_title(f'mAP@50 (est.) ({split} set)', fontdict=font_title)\n",
    "ax.grid(linestyle='--')\n",
    "\n",
    "fig, ax = plt.subplots()\n",
    "ax.plot(list(range(len(overall_accuracies[:, 2]))), overall_accuracies[:, 2])\n",
    "ax.set_xlabel('Epoch', fontdict=font_axes)\n",
    "ax.set_ylabel('mAP@70', fontdict=font_axes)\n",
    "ax.set_title(f'mAP@70 (est.) ({split} set)', fontdict=font_title)\n",
    "ax.grid(linestyle='--')\n",
    "\n",
    "fig, ax = plt.subplots()\n",
    "ax.plot(list(range(len(overall_ious))), overall_ious)\n",
    "ax.set_xlabel('Epoch', fontdict=font_axes)\n",
    "ax.set_ylabel('Average IoU', fontdict=font_axes)\n",
    "ax.set_title(f'Intersection over Union (est.) ({split} set)', fontdict=font_title)\n",
    "ax.grid(linestyle='--')"
   ]
  }
 ],
 "metadata": {
  "kernelspec": {
   "display_name": "Python 3",
   "language": "python",
   "name": "python3"
  },
  "language_info": {
   "codemirror_mode": {
    "name": "ipython",
    "version": 3
   },
   "file_extension": ".py",
   "mimetype": "text/x-python",
   "name": "python",
   "nbconvert_exporter": "python",
   "pygments_lexer": "ipython3",
   "version": "3.10.11"
  },
  "orig_nbformat": 4
 },
 "nbformat": 4,
 "nbformat_minor": 2
}
